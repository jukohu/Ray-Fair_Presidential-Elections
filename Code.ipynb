# Ray Fair — Econometrics and Presidential Elections: Assessing & Improving the Model

**The model**

$$V^{p} = \alpha_{0} + \alpha_{1} G + \alpha_{2} P + \alpha_{3} Z + \alpha_{4} I + \alpha_{5} \mathrm{DUR} + \alpha_{6} \mathrm{DPER} + \alpha_{7} \mathrm{WAR} + \varepsilon$$

**Variables**

| Variable | Definition |
|---|---|
| `V^p` | Democratic share of the two-party presidential vote. |
| `G` | Growth rate of real per-capita GDP in the first 3 quarters of the on-term election year (annual rate). |
| `P` | Absolute value of the growth rate of the GDP deflator in the first 15 quarters of the administration (annual rate), except 1920, 1944, 1948 where values are zero. |
| `Z` | Number of quarters in the first 15 quarters where real per-capita GDP growth is &gt; 3.2% (annual rate), except 1920, 1944, 1948 where zero. |
| `I` | 1 if Democratic presidential incumbent at election; −1 if Republican. |
| `DUR` | 0 if either party has been in the White House for one term; 1 [−1] for two consecutive Democratic [Republican] terms; 1.25 [−1.25] for three terms; 1.50 [−1.50] for four terms; etc. |
| `DPER` | 1 if a Democratic presidential incumbent runs again; −1 if a Republican incumbent runs again; 0 otherwise. |
| `WAR` | 1 for the elections of 1918, 1920, 1942, 1944, 1946, 1948; 0 otherwise. |





First, import Professor Fair's data:
import pandas as pd

df = pd.read_fwf("data_text.txt", names=['t', 'VP', 'VC', 'I', 'DPER', 'DUR', 'WAR', 'G', 'P', 'Z'])   
df.tail(10)



The 2024 presidential election notes:

Political
- does it make sense to include a gender bias
- more information on the candidate like age, origin, etc. 
- there has been an economic news variable, does it make sense to include something like that


Economic:

We do have GDP per capita and inflation. 
- What about unemployment. 
- The youth seems to play a more important role in elections, what drives young men to become more conservative. 
- Globalization could play a role. Could look at Dollar's strenght. 
- What about economic indicators that measure opportunities, i.e. mean years of schooling. 
- What about crime
- What about inequality, affects politics and is indicative for political polarization 
- What about gov. deficit. 
- What about average tax rate, etc. 
- What economic indicators do people look at when voting?
- GDP growth compared to other countries. IMPORTANT ONE
- What about financial markets? 


find papers that look at how those economic indicators correlate with political opinion





Let's start looking at relative US GDP per capita as a better indicator for the government's success in creating prosperity. 
But first, let's specify Prof. Ray's classic model:
import pandas as pd
import numpy as np

# 1) Clean strings and adjust year variable
df = df.replace(["na", "NA", ""], np.nan)
df["t"] = pd.to_numeric(df["t"], errors="coerce").astype("Int64")
df = df[df["t"] >= 1916]


# 2) Force numeric for the variables we need
cols = ['VP','I','DPER','DUR','WAR','G','P','Z']
df[cols] = df[cols].apply(pd.to_numeric, errors='coerce')

# 3) Build X, y with proper dtypes and add constant
df["G_I"] = df["G"] * df["I"]
df["P_I"] = df["P"] * df["I"]
df["Z_I"] = df["Z"] * df["I"]

X = df[["G_I", "P_I", "Z_I", "I", "DPER", "DUR", "WAR"]]
X = sm.add_constant(X)
y = df["VP"]

# 4) Fit
res = sm.OLS(y, X).fit()
print(res.summary())

Okay, now let's find some data that looks at US GDP relative to world gdp per capita growth. 
X.corr()
from statsmodels.stats.outliers_influence import variance_inflation_factor
import pandas as pd

vif = pd.DataFrame()
vif["variable"] = X.columns
vif["VIF"] = [variance_inflation_factor(X.values, i) for i in range(X.shape[1])]
print(vif)

## US GDP per capita relative to OECD GDP per capita
import pandas as pd

GDP = pd.read_csv("GDP.csv")
GDP = GDP.iloc[:, [2, 4]]

GDP["t"] = pd.to_numeric(
    GDP["Time"].astype(str).str.replace(",", ""), 
    errors="coerce"
).astype("Int64")

GDP = GDP.drop(columns=["Time"])

GDP.head(10)
Now we have to calculate the growth rate of GDP per capita
GDP['G_OECD'] = GDP['GDP per capita (current US$) [NY.GDP.PCAP.CD]'].pct_change() * 100
GDP.head(10)
merged = pd.merge(df, GDP, on="t")
merged['G_relative'] = merged['G'] / merged['G_OECD'] * 100
merged = merged[merged['t'] >= 1961]
merged.head(10)


import pandas as pd
import numpy as np

# 3) Build X, y with proper dtypes and add constant
merged["G_relative_I"] = merged["G_relative"] * merged["I"]
merged["P_I"] = merged["P"] * merged["I"]
merged["Z_I"] = merged["Z"] * merged["I"]

X_oecd = merged[["G_I", "G_relative_I", "P_I", "Z_I", "I", "DPER", "DUR", "WAR"]]
X_oecd = sm.add_constant(X_oecd)
y_oecd = merged["VP"]

# 4) Fit
res_oecd = sm.OLS(y_oecd, X_oecd).fit()
print(res_oecd.summary())

## US GDP per capita relative to German GDP per capita
import pandas as pd

Germany = pd.read_csv("Germany.csv")
Germany = Germany.iloc[:, [2, 4]]

Germany["t"] = pd.to_numeric(
    Germany["Time"].astype(str).str.replace(",", ""), 
    errors="coerce"
).astype("Int64")

Germany = Germany.drop(columns=["Time"])

Germany['G_Germany'] = Germany['Germany [DEU]'].pct_change() * 100
Germany.head(10)


merged_germany = pd.merge(df, Germany, on="t")
merged_germany['G_relative'] = merged_germany['G'] / merged_germany['G_Germany'] * 100
merged_germany = merged_germany[merged_germany['t'] >= 1961]
merged_germany.head(10)

import pandas as pd
import numpy as np

# 3) Build X, y with proper dtypes and add constant
merged_germany["G_relative_I"] = merged_germany["G_relative"] * merged_germany["I"]
merged_germany["P_I"] = merged_germany["P"] * merged_germany["I"]
merged_germany["Z_I"] = merged_germany["Z"] * merged_germany["I"]

X_germany = merged_germany[["G_relative_I", "P_I", "Z_I", "I", "DPER", "DUR", "WAR"]]
X_germany = sm.add_constant(X_germany)
y_germany = merged_germany["VP"]

# 4) Fit
res_germany = sm.OLS(y_germany, X_germany).fit()
print(res_germany.summary())

The statistically insignificant results for using a relative GDP per capita indicator instead of the US GDP indicatoro shows that american voters seem to form their opinion on who to vote for independent of the relative performance of their government. 
## Gini Coefficient
Next, I am including the gini coefficient for the US, as I believe economic inequality to have a significant effect on political polarization and perceived justice. 
import pandas as pd


Gini = pd.read_csv("Gini.csv")
Gini = Gini.iloc[:, [2, 4]]

Gini["t"] = pd.to_numeric(
    Gini["Time"].astype(str).str.replace(",", ""), 
    errors="coerce"
).astype("Int64")
Gini = Gini.drop(columns=["Time"])
Gini['Gini'] = Gini['United States [USA]']

merged_gini = pd.merge(df, Gini, on="t")
merged_gini = merged_gini[merged_gini['t'] >= 1963]
merged_gini.head(10)

import pandas as pd
import numpy as np

cols = ["VP","I","DPER","DUR","WAR","G_I","P_I","Z_I","Gini"]
for c in cols:
    merged_gini[c] = pd.to_numeric(merged_gini[c], errors="coerce")

reg = merged_gini.dropna(subset=cols).copy()

X_gini = reg[["G_I", "P_I", "Z_I", "I", "DPER", "DUR", "WAR", "Gini"]].astype(float)
X_gini = sm.add_constant(X_gini)
y_gini = reg["VP"]


res_gini = sm.OLS(y_gini, X_gini).fit()
print(res_gini.summary())

The Gini coefficient doesn't add explanatory power to the model either. 
## Financial Markets as an indicator for economic sentiment

There is data from the FED on the NASDAQ Composite Index. I thought to take the average returns from one year before the elections. 






